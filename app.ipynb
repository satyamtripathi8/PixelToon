{
 "cells": [
  {
   "cell_type": "code",
   "execution_count": 4,
   "metadata": {},
   "outputs": [
    {
     "name": "stdout",
     "output_type": "stream",
     "text": [
      " * Serving Flask app '__main__'\n",
      " * Debug mode: on\n"
     ]
    },
    {
     "name": "stderr",
     "output_type": "stream",
     "text": [
      "WARNING: This is a development server. Do not use it in a production deployment. Use a production WSGI server instead.\n",
      " * Running on http://127.0.0.1:5000\n",
      "Press CTRL+C to quit\n",
      " * Restarting with watchdog (windowsapi)\n"
     ]
    },
    {
     "ename": "SystemExit",
     "evalue": "1",
     "output_type": "error",
     "traceback": [
      "An exception has occurred, use %tb to see the full traceback.\n",
      "\u001b[1;31mSystemExit\u001b[0m\u001b[1;31m:\u001b[0m 1\n"
     ]
    }
   ],
   "source": [
    "from flask import Flask, render_template, request, jsonify\n",
    "import cv2\n",
    "import numpy as np\n",
    "import os\n",
    "import base64\n",
    "from io import BytesIO\n",
    "from PIL import Image\n",
    "\n",
    "app = Flask(__name__)\n",
    "UPLOAD_FOLDER = \"static/uploads/\"\n",
    "PROCESSED_FOLDER = \"static/processed/\"\n",
    "os.makedirs(UPLOAD_FOLDER, exist_ok=True)\n",
    "os.makedirs(PROCESSED_FOLDER, exist_ok=True)\n",
    "\n",
    "def apply_cartoon_effect(image, effect_type):\n",
    "    gray = cv2.cvtColor(image, cv2.COLOR_BGR2GRAY)\n",
    "    smooth = cv2.medianBlur(gray, 5)\n",
    "    edges = cv2.adaptiveThreshold(smooth, 255, cv2.ADAPTIVE_THRESH_MEAN_C, cv2.THRESH_BINARY, 9, 9)\n",
    "    color = cv2.bilateralFilter(image, 9, 300, 300)\n",
    "    \n",
    "    if effect_type == \"cartoon\":\n",
    "        return cv2.bitwise_and(color, color, mask=edges)\n",
    "    elif effect_type == \"pencil_gray\":\n",
    "        return cv2.cvtColor(cv2.bitwise_not(edges), cv2.COLOR_GRAY2BGR)\n",
    "    elif effect_type == \"pencil_color\":\n",
    "        return cv2.bitwise_and(color, cv2.bitwise_not(edges))\n",
    "    elif effect_type == \"oil_painting\":\n",
    "        return cv2.xphoto.oilPainting(image, 7, 1)\n",
    "    elif effect_type == \"watercolor\":\n",
    "        return cv2.stylization(image, sigma_s=60, sigma_r=0.6)\n",
    "    return image\n",
    "\n",
    "@app.route('/')\n",
    "def home():\n",
    "    return render_template('index.html')\n",
    "\n",
    "@app.route('/cartoonify', methods=['POST'])\n",
    "def cartoonify():\n",
    "    if 'file' not in request.files:\n",
    "        return jsonify({\"error\": \"No file uploaded\"}), 400\n",
    "    \n",
    "    file = request.files['file']\n",
    "    effect = request.form.get('effect', 'cartoon')\n",
    "    \n",
    "    try:\n",
    "        image = Image.open(file.stream)\n",
    "        image = np.array(image)\n",
    "        image = cv2.cvtColor(image, cv2.COLOR_RGB2BGR)\n",
    "        \n",
    "        processed_image = apply_cartoon_effect(image, effect)\n",
    "        processed_image = cv2.cvtColor(processed_image, cv2.COLOR_BGR2RGB)\n",
    "        \n",
    "        _, buffer = cv2.imencode('.png', processed_image)\n",
    "        encoded_image = base64.b64encode(buffer).decode('utf-8')\n",
    "        \n",
    "        return jsonify({\"processed_image\": f\"data:image/png;base64,{encoded_image}\"})\n",
    "    except Exception as e:\n",
    "        return jsonify({\"error\": str(e)}), 500\n",
    "\n",
    "if __name__ == \"__main__\":\n",
    "    app.run(debug=True)"
   ]
  }
 ],
 "metadata": {
  "kernelspec": {
   "display_name": "Python 3",
   "language": "python",
   "name": "python3"
  },
  "language_info": {
   "codemirror_mode": {
    "name": "ipython",
    "version": 3
   },
   "file_extension": ".py",
   "mimetype": "text/x-python",
   "name": "python",
   "nbconvert_exporter": "python",
   "pygments_lexer": "ipython3",
   "version": "3.10.0"
  }
 },
 "nbformat": 4,
 "nbformat_minor": 2
}
